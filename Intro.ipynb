{
 "cells": [
  {
   "cell_type": "markdown",
   "metadata": {},
   "source": [
    "# Intro to Data Science\n",
    "\n",
    "This notebook will contain my experiments and exploration as we walk through the introductory over view of data science. We will go over what data science is and what data scienist do. We will look at some fundamental techniques for working with data and introduce you to basics of statistical analysis and machine learning. The purpose of this notebook is to set you on a path towards the skill you need to pursure a career in data science. This is the first step in the journey!\n"
   ]
  },
  {
   "cell_type": "markdown",
   "metadata": {},
   "source": [
    "## What do people enjoy about being a data scientist? \n",
    "The link below ask some of microsofts current data scientist about what they love about their job! Click on the image to see what they have to say!<br>\n",
    "[![](images/thumbnail.PNG)](https://www.youtube.com/watch?time_continue=1&v=VwZhq701ZSs \"Everything Is AWESOME\")"
   ]
  },
  {
   "cell_type": "markdown",
   "metadata": {},
   "source": [
    "### Reasons People Love Being a Data Scientist:\n",
    "* Love being a problem solver, often business users will want to forcast or understand how can improve their business. Use data to provide value to the business\n",
    "* Data as an art, formate data differently to visually abtract information, allowing the data to tell its story.\n",
    "* The challanges of investigation, kinda like being a journalist trying to get all the facts to the story\n",
    "* Solving the puzzels and question need to come up with new knowlegde about the product.\n",
    "* Data talks, you can see user trends or waht the users are doing and its fact not an opinion. \n",
    "* Work with people with diverse background. \n",
    "* Worlds data is doubling every couple of years. "
   ]
  },
  {
   "cell_type": "markdown",
   "metadata": {},
   "source": [
    "## What does a Data Scientist Do? \n",
    "Below we have a video on what data scientist do at work!<br>\n",
    "[![Everything Is AWESOME](images/thumbnail2.PNG)](https://www.youtube.com/watch?time_continue=12&v=GG508p_epa4 \"Everything Is AWESOME\")\n"
   ]
  },
  {
   "cell_type": "markdown",
   "metadata": {},
   "source": [
    "### What do Data Scientist do on Daily Basis\n",
    "* Data Wrangling, Data munging and feature engineering which is taking raw input data and transforming it into a way to provide value. \n",
    "* Cleaning data and getting data good enough to be trust worthy and usable, garbage in is garbage out.\n",
    "* Understanding and preping the data, maybe getting data from multiple sources and make sense of it.\n",
    "* Always try to improve by online competitions and discussion forms as the field is moving quick\n",
    "\n",
    "### What Kind of Person Succeeds as a Data Scientist?\n",
    "* Someone who loves data, maybe even dream about it, curiousity and \n",
    "* Curious about that data and how it will be used by the business and be able to work with other people.\n",
    "* Quick learner and know to to ask questions to get answer you are looking for.<br>\n",
    "[![](images/thumbnail3.PNG)](https://www.youtube.com/watch?time_continue=8&v=NqyF-nvUf1Q \"Everything Is AWESOME\")"
   ]
  },
  {
   "cell_type": "markdown",
   "metadata": {},
   "source": [
    "### What are the Key Skills for a Data Scientist?\n",
    "* Need a good handle on math and statistics\n",
    "* Soft skills, be able to communicate your finding to other with less math skills\n",
    "* Programing languages such as Python and R\n",
    "* Presesntion layer micronsoft BI, Tableau and Click\n",
    "* Modeling with Azure machine learning or Spark\n",
    "* Azure ML is attempt to put together a set of tools that is repeatable and sharable, \"democratizing\""
   ]
  },
  {
   "cell_type": "markdown",
   "metadata": {},
   "source": [
    "### Advice for Data Scientist\n",
    "\n",
    "* Dont wait for a job to start working on projects\n",
    "* Look at all the available data sets out there such as data.gov where one is able to create models and play with data.\n",
    "* Learn from others\n",
    "* Work on projects you have a passion for\n",
    "* Seek to solve problems\n",
    "* Share with the community\n",
    "* Need to determine methodolgy will lead to good answers most of the time, determine a right answer from the lucky guess."
   ]
  },
  {
   "cell_type": "code",
   "execution_count": null,
   "metadata": {},
   "outputs": [],
   "source": []
  }
 ],
 "metadata": {
  "kernelspec": {
   "display_name": "Python 3",
   "language": "python",
   "name": "python3"
  },
  "language_info": {
   "codemirror_mode": {
    "name": "ipython",
    "version": 3
   },
   "file_extension": ".py",
   "mimetype": "text/x-python",
   "name": "python",
   "nbconvert_exporter": "python",
   "pygments_lexer": "ipython3",
   "version": "3.6.5"
  }
 },
 "nbformat": 4,
 "nbformat_minor": 2
}
