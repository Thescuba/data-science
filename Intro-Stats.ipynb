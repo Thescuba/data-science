{
 "cells": [
  {
   "cell_type": "markdown",
   "metadata": {},
   "source": [
    "# Intro into Statistics\n",
    "## Measuring Central Tendency\n",
    "Statistical analysis is at the core of data science. Using statstic we learn about the distribution of the data, how much of variance there is between values and how values for one feature of the data influence other values. We will start with the common decriptive statistics. Lets get started by loading out data!"
   ]
  },
  {
   "cell_type": "code",
   "execution_count": 1,
   "metadata": {},
   "outputs": [
    {
     "data": {
      "text/html": [
       "<div>\n",
       "<style scoped>\n",
       "    .dataframe tbody tr th:only-of-type {\n",
       "        vertical-align: middle;\n",
       "    }\n",
       "\n",
       "    .dataframe tbody tr th {\n",
       "        vertical-align: top;\n",
       "    }\n",
       "\n",
       "    .dataframe thead th {\n",
       "        text-align: right;\n",
       "    }\n",
       "</style>\n",
       "<table border=\"1\" class=\"dataframe\">\n",
       "  <thead>\n",
       "    <tr style=\"text-align: right;\">\n",
       "      <th></th>\n",
       "      <th>Day</th>\n",
       "      <th>Temperature</th>\n",
       "      <th>Rainfall</th>\n",
       "      <th>Flyers</th>\n",
       "      <th>Price</th>\n",
       "      <th>Sales</th>\n",
       "      <th>Revenue</th>\n",
       "      <th>Unnamed: 8</th>\n",
       "    </tr>\n",
       "    <tr>\n",
       "      <th>Date</th>\n",
       "      <th></th>\n",
       "      <th></th>\n",
       "      <th></th>\n",
       "      <th></th>\n",
       "      <th></th>\n",
       "      <th></th>\n",
       "      <th></th>\n",
       "      <th></th>\n",
       "    </tr>\n",
       "  </thead>\n",
       "  <tbody>\n",
       "    <tr>\n",
       "      <th>2017-01-01</th>\n",
       "      <td>Sunday</td>\n",
       "      <td>27.0</td>\n",
       "      <td>2.00</td>\n",
       "      <td>15</td>\n",
       "      <td>0.3</td>\n",
       "      <td>10</td>\n",
       "      <td>3.0</td>\n",
       "      <td>NaN</td>\n",
       "    </tr>\n",
       "    <tr>\n",
       "      <th>2017-01-02</th>\n",
       "      <td>Monday</td>\n",
       "      <td>28.9</td>\n",
       "      <td>1.33</td>\n",
       "      <td>15</td>\n",
       "      <td>0.3</td>\n",
       "      <td>13</td>\n",
       "      <td>3.9</td>\n",
       "      <td>NaN</td>\n",
       "    </tr>\n",
       "    <tr>\n",
       "      <th>2017-01-03</th>\n",
       "      <td>Tuesday</td>\n",
       "      <td>34.5</td>\n",
       "      <td>1.33</td>\n",
       "      <td>27</td>\n",
       "      <td>0.3</td>\n",
       "      <td>15</td>\n",
       "      <td>4.5</td>\n",
       "      <td>NaN</td>\n",
       "    </tr>\n",
       "    <tr>\n",
       "      <th>2017-01-04</th>\n",
       "      <td>Wednesday</td>\n",
       "      <td>44.1</td>\n",
       "      <td>1.05</td>\n",
       "      <td>28</td>\n",
       "      <td>0.3</td>\n",
       "      <td>17</td>\n",
       "      <td>5.1</td>\n",
       "      <td>NaN</td>\n",
       "    </tr>\n",
       "    <tr>\n",
       "      <th>2017-01-05</th>\n",
       "      <td>Thursday</td>\n",
       "      <td>42.4</td>\n",
       "      <td>1.00</td>\n",
       "      <td>33</td>\n",
       "      <td>0.3</td>\n",
       "      <td>18</td>\n",
       "      <td>5.4</td>\n",
       "      <td>NaN</td>\n",
       "    </tr>\n",
       "  </tbody>\n",
       "</table>\n",
       "</div>"
      ],
      "text/plain": [
       "                  Day  Temperature  Rainfall  Flyers  Price  Sales  Revenue  \\\n",
       "Date                                                                          \n",
       "2017-01-01     Sunday         27.0      2.00      15    0.3     10      3.0   \n",
       "2017-01-02     Monday         28.9      1.33      15    0.3     13      3.9   \n",
       "2017-01-03    Tuesday         34.5      1.33      27    0.3     15      4.5   \n",
       "2017-01-04  Wednesday         44.1      1.05      28    0.3     17      5.1   \n",
       "2017-01-05   Thursday         42.4      1.00      33    0.3     18      5.4   \n",
       "\n",
       "            Unnamed: 8  \n",
       "Date                    \n",
       "2017-01-01         NaN  \n",
       "2017-01-02         NaN  \n",
       "2017-01-03         NaN  \n",
       "2017-01-04         NaN  \n",
       "2017-01-05         NaN  "
      ]
     },
     "execution_count": 1,
     "metadata": {},
     "output_type": "execute_result"
    }
   ],
   "source": [
    "%matplotlib inline\n",
    "import pandas as pd\n",
    "import numpy as np\n",
    "from matplotlib import pyplot as plt\n",
    "np.random.seed(13)\n",
    "df = pd.read_csv('data/Lemonade-2.csv', index_col = 'Date', parse_dates = True, na_values = 'nan' )\n",
    "df.head()"
   ]
  },
  {
   "cell_type": "markdown",
   "metadata": {},
   "source": [
    "Lets take a closer look at the Temperature field and randomly sample 20 dates without replacment."
   ]
  },
  {
   "cell_type": "code",
   "execution_count": 2,
   "metadata": {},
   "outputs": [
    {
     "data": {
      "text/plain": [
       "Date\n",
       "2017-01-08    37.5\n",
       "2017-01-13    37.5\n",
       "2017-01-28    34.9\n",
       "2017-03-03    60.2\n",
       "2017-03-15    56.2\n",
       "2017-04-12    66.1\n",
       "2017-04-21    67.1\n",
       "2017-05-29    66.7\n",
       "2017-06-01    71.3\n",
       "2017-06-27    75.3\n",
       "2017-08-03    75.0\n",
       "2017-08-14    72.6\n",
       "2017-09-06    71.7\n",
       "2017-09-09    64.8\n",
       "2017-10-15    61.5\n",
       "2017-10-29    61.5\n",
       "2017-12-04    34.9\n",
       "2017-12-13    32.2\n",
       "2017-12-16    35.5\n",
       "2017-12-17    32.2\n",
       "Name: Temperature, dtype: float64"
      ]
     },
     "execution_count": 2,
     "metadata": {},
     "output_type": "execute_result"
    }
   ],
   "source": [
    "df_subsample = df[\"Temperature\"].sample(20).sort_index()\n",
    "df_subsample "
   ]
  },
  {
   "cell_type": "markdown",
   "metadata": {},
   "source": [
    "We may want to sort our data by temperature values. "
   ]
  },
  {
   "cell_type": "code",
   "execution_count": 3,
   "metadata": {},
   "outputs": [
    {
     "data": {
      "text/plain": [
       "Date\n",
       "2017-12-17    32.2\n",
       "2017-12-13    32.2\n",
       "2017-01-28    34.9\n",
       "2017-12-04    34.9\n",
       "2017-12-16    35.5\n",
       "2017-01-08    37.5\n",
       "2017-01-13    37.5\n",
       "2017-03-15    56.2\n",
       "2017-03-03    60.2\n",
       "2017-10-15    61.5\n",
       "2017-10-29    61.5\n",
       "2017-09-09    64.8\n",
       "2017-04-12    66.1\n",
       "2017-05-29    66.7\n",
       "2017-04-21    67.1\n",
       "2017-06-01    71.3\n",
       "2017-09-06    71.7\n",
       "2017-08-14    72.6\n",
       "2017-08-03    75.0\n",
       "2017-06-27    75.3\n",
       "Name: Temperature, dtype: float64"
      ]
     },
     "execution_count": 3,
     "metadata": {},
     "output_type": "execute_result"
    }
   ],
   "source": [
    "df_subsample.sort_values(inplace = True)\n",
    "df_subsample"
   ]
  },
  {
   "cell_type": "markdown",
   "metadata": {},
   "source": [
    "From the list we are able to quickly find the min which is the first value in the data and the max which is the last value of the data. In this example it is 87.62 and 195.26 with the power of numpy we can quicky return these values with a line of code."
   ]
  },
  {
   "cell_type": "code",
   "execution_count": 4,
   "metadata": {},
   "outputs": [
    {
     "data": {
      "text/plain": [
       "32.2"
      ]
     },
     "execution_count": 4,
     "metadata": {},
     "output_type": "execute_result"
    }
   ],
   "source": [
    "df_subsample.min()"
   ]
  },
  {
   "cell_type": "code",
   "execution_count": 5,
   "metadata": {},
   "outputs": [
    {
     "data": {
      "text/plain": [
       "75.3"
      ]
     },
     "execution_count": 5,
     "metadata": {},
     "output_type": "execute_result"
    }
   ],
   "source": [
    "df_subsample.max()"
   ]
  },
  {
   "cell_type": "code",
   "execution_count": 6,
   "metadata": {},
   "outputs": [
    {
     "data": {
      "text/plain": [
       "55.735"
      ]
     },
     "execution_count": 6,
     "metadata": {},
     "output_type": "execute_result"
    }
   ],
   "source": [
    "df_subsample.mean()"
   ]
  },
  {
   "cell_type": "code",
   "execution_count": 7,
   "metadata": {},
   "outputs": [
    {
     "data": {
      "text/plain": [
       "count    20.000000\n",
       "mean     55.735000\n",
       "std      16.402191\n",
       "min      32.200000\n",
       "25%      37.000000\n",
       "50%      61.500000\n",
       "75%      68.150000\n",
       "max      75.300000\n",
       "Name: Temperature, dtype: float64"
      ]
     },
     "execution_count": 7,
     "metadata": {},
     "output_type": "execute_result"
    }
   ],
   "source": [
    "df_subsample.describe()"
   ]
  },
  {
   "cell_type": "markdown",
   "metadata": {},
   "source": [
    "If we were looking to return just max or the min we would only require calling the function min() or max() but we may also use .describe() to get all our descriptive statistics with a single line of code."
   ]
  },
  {
   "cell_type": "markdown",
   "metadata": {},
   "source": [
    "Given max and min we know the values of the data at its extremes and we may assume a tipical value lay somewhere in the middle. If we are dealing with a full populataion of data we can calculate our mean by suming up all values then dividing by the total number of values summed. Below we have the formual where the greek better Mu symbolizes the mean or average value of the data.\n",
    "# $\\mu = \\frac{\\sum_{i=1}^{N} X_i}{N}$\n",
    "\n",
    "In our case we are data is a subset of the full population so we would represent our mean value with an x with bar over it. \n",
    "# $\\overline{x} = \\frac{\\sum_{i=1}^{n} x_i}{n}$\n",
    "\n",
    "Our mean might not accurately represent our typical value, say in the case there we had a few days that were extremely hot and move the average temperature of the mean up. So and alturnative to the average value is to take the median. you will sort the values and select the middle value, if your number of observations is odd then that alone is all we need, but if our observations is even we select the two most middle values and average them. With "
   ]
  },
  {
   "cell_type": "code",
   "execution_count": 8,
   "metadata": {},
   "outputs": [
    {
     "data": {
      "text/plain": [
       "61.5"
      ]
     },
     "execution_count": 8,
     "metadata": {},
     "output_type": "execute_result"
    }
   ],
   "source": [
    "df_subsample.median()"
   ]
  },
  {
   "cell_type": "markdown",
   "metadata": {},
   "source": [
    "Another descriptive statistic we may want too look at is the mode, we can see which value occurs more frequent than the others. "
   ]
  },
  {
   "cell_type": "code",
   "execution_count": 9,
   "metadata": {},
   "outputs": [
    {
     "data": {
      "text/plain": [
       "0    32.2\n",
       "1    34.9\n",
       "2    37.5\n",
       "3    61.5\n",
       "dtype: float64"
      ]
     },
     "execution_count": 9,
     "metadata": {},
     "output_type": "execute_result"
    }
   ],
   "source": [
    "df_subsample.mode()"
   ]
  },
  {
   "cell_type": "markdown",
   "metadata": {},
   "source": [
    "Displaying our data with a histogram will allow use to get a feel for where the data lies."
   ]
  },
  {
   "cell_type": "code",
   "execution_count": 10,
   "metadata": {},
   "outputs": [
    {
     "data": {
      "text/plain": [
       "<matplotlib.axes._subplots.AxesSubplot at 0x1f067d817b8>"
      ]
     },
     "execution_count": 10,
     "metadata": {},
     "output_type": "execute_result"
    },
    {
     "data": {
      "image/png": "[encoded data removed]",
      "text/plain": [
       "<Figure size 432x288 with 1 Axes>"
      ]
     },
     "metadata": {},
     "output_type": "display_data"
    }
   ],
   "source": [
    "df_subsample.plot(kind='hist')"
   ]
  },
  {
   "cell_type": "markdown",
   "metadata": {},
   "source": [
    "From our histogram it seems that our sampled data is not evenly distrubuted or even normally distributed. We see that our min and our max values seem very frequent while values near our mean and medium seem to be not as common. When sampling from our data we might have been unlucky with our sampling which in turn would give us poor results. Lets try what our histogram would look like if we had all our data."
   ]
  },
  {
   "cell_type": "code",
   "execution_count": 11,
   "metadata": {},
   "outputs": [
    {
     "data": {
      "text/plain": [
       "<matplotlib.axes._subplots.AxesSubplot at 0x1f067eef710>"
      ]
     },
     "execution_count": 11,
     "metadata": {},
     "output_type": "execute_result"
    },
    {
     "data": {
      "image/png": "[encoded data removed]",
      "text/plain": [
       "<Figure size 432x288 with 1 Axes>"
      ]
     },
     "metadata": {},
     "output_type": "display_data"
    }
   ],
   "source": [
    "df['Temperature'].hist()"
   ]
  },
  {
   "cell_type": "markdown",
   "metadata": {},
   "source": [
    "That looks much better, our data looks very simliar to a bell curve which we like to call a normal distribution. We know what it was sampling that was the problem in of histogram of our sampled data frame.\n",
    "Another Chart that is helpful is look at ist a box plot, all values in the box represent the middle 50 percent of the data and the line in the middle represents the median. The wiskers represent the values of teh upper and lower bouns and any values outside are consider outliers."
   ]
  },
  {
   "cell_type": "code",
   "execution_count": 12,
   "metadata": {},
   "outputs": [
    {
     "data": {
      "text/plain": [
       "<matplotlib.axes._subplots.AxesSubplot at 0x1f067f6e550>"
      ]
     },
     "execution_count": 12,
     "metadata": {},
     "output_type": "execute_result"
    },
    {
     "data": {
      "image/png": "[encoded data removed]",
      "text/plain": [
       "<Figure size 432x288 with 1 Axes>"
      ]
     },
     "metadata": {},
     "output_type": "display_data"
    }
   ],
   "source": [
    "df['Temperature'].plot(kind = 'box',vert=False)"
   ]
  },
  {
   "cell_type": "markdown",
   "metadata": {},
   "source": [
    "## Measuring Variance\n",
    "Above our histogram has some variation in values near the mean. There is a mathmatical calculation for this called variance which is represent by the greek letter Sigma squared, where sigma is standard deviation.  \n",
    "# $\\sigma^{2} = \\frac{\\sum_{i=1}^{N} (X_i - \\mu)^{2} }{N}$\n",
    "\n",
    "In the case of dealing with a sample of data we want to change the formual to allow for bias in the sample. \n",
    "# $s^{2} = \\frac{\\sum_{i=1}^{n} (x_i - \\overline{x})^{2} }{n-1}$\n",
    "\n",
    "Now lets find the variance for the population of data."
   ]
  },
  {
   "cell_type": "code",
   "execution_count": 13,
   "metadata": {},
   "outputs": [
    {
     "data": {
      "text/plain": [
       "262.3190218274874"
      ]
     },
     "execution_count": 13,
     "metadata": {},
     "output_type": "execute_result"
    }
   ],
   "source": [
    "df[\"Temperature\"].var()"
   ]
  },
  {
   "cell_type": "markdown",
   "metadata": {},
   "source": [
    "We can just as easily find the variance of our sampled data witht he line of code below. "
   ]
  },
  {
   "cell_type": "code",
   "execution_count": 14,
   "metadata": {},
   "outputs": [
    {
     "data": {
      "text/plain": [
       "269.0318684210526"
      ]
     },
     "execution_count": 14,
     "metadata": {},
     "output_type": "execute_result"
    }
   ],
   "source": [
    "df_subsample.var(ddof = 1)"
   ]
  },
  {
   "cell_type": "markdown",
   "metadata": {},
   "source": [
    "What does our variance value mean? What does a variance of 262 or 269 mean? Since the values were squared it is not longer in the same scale. What we can do is to calculate the squared root of variance to turn us something called standard deviation.\n",
    "# $\\sigma = \\sqrt{\\frac{\\sum_{i=1}^{N} (X_i - \\mu)^{2} }{N}}$\n",
    "\n",
    "Similarly to get the standard deviation of our sampled data we can use the formula below.\n",
    "# $s = \\sqrt{\\frac{\\sum_{i=1}^{n} (x_i - \\overline{x})^{2} }{n-1}}$\n",
    "\n",
    "Let try it out below."
   ]
  },
  {
   "cell_type": "code",
   "execution_count": 15,
   "metadata": {},
   "outputs": [
    {
     "data": {
      "text/plain": [
       "16.19626567537985"
      ]
     },
     "execution_count": 15,
     "metadata": {},
     "output_type": "execute_result"
    }
   ],
   "source": [
    "df[\"Temperature\"].std()"
   ]
  },
  {
   "cell_type": "code",
   "execution_count": 16,
   "metadata": {},
   "outputs": [
    {
     "data": {
      "text/plain": [
       "16.40219096404662"
      ]
     },
     "execution_count": 16,
     "metadata": {},
     "output_type": "execute_result"
    }
   ],
   "source": [
    "df_subsample.std(ddof = 1)"
   ]
  },
  {
   "cell_type": "markdown",
   "metadata": {},
   "source": [
    "The standard deviation on our population data is around 16.1962, this number represents how spread out our values are. Statastians love a normal distribution as the mean is in the middle and around 68.26% of all observations lie within one standard deviation above or below the mean. Around 95% of observations lie within two standarad deviations of the mean and around 99.73% of ovservations lie within three standard deviations of the mean. If you had look at mean squared error before in linear regression we can see that variance measures the spread of the data around the mean (in squared units), while the mean squared error measures the vertical spread of the data around the regression line (in squared vertical units)."
   ]
  },
  {
   "cell_type": "markdown",
   "metadata": {},
   "source": [
    "## Skewed Distibutions\n",
    "It important to realize that not all data will have a normal distribution and is often the case that the distribution of data is skewed by some high or low value affecting the centrality of the mean. \n",
    "\n"
   ]
  },
  {
   "cell_type": "code",
   "execution_count": 17,
   "metadata": {},
   "outputs": [
    {
     "data": {
      "text/plain": [
       "Date\n",
       "2017-01-01    2.00\n",
       "2017-01-05    1.00\n",
       "2017-01-07    1.54\n",
       "2017-01-11    1.54\n",
       "2017-01-15    1.11\n",
       "Name: Rainfall, dtype: float64"
      ]
     },
     "execution_count": 17,
     "metadata": {},
     "output_type": "execute_result"
    }
   ],
   "source": [
    "df_subsample_rain = df[\"Rainfall\"].sample(100).sort_index()\n",
    "df_subsample_rain.head()\n"
   ]
  },
  {
   "cell_type": "code",
   "execution_count": 18,
   "metadata": {},
   "outputs": [
    {
     "name": "stdout",
     "output_type": "stream",
     "text": [
      "max: 2.5\n",
      "min: 0.47\n",
      "mode: 0    0.67\n",
      "dtype: float64\n",
      "mean: 0.8645000000000006\n",
      "median: 0.77\n"
     ]
    }
   ],
   "source": [
    "print('max:', df_subsample_rain.max())\n",
    "print('min:', df_subsample_rain.min())\n",
    "print('mode:', df_subsample_rain.mode())\n",
    "print('mean:', df_subsample_rain.mean())\n",
    "print('median:', df_subsample_rain.median())\n"
   ]
  },
  {
   "cell_type": "code",
   "execution_count": 19,
   "metadata": {},
   "outputs": [
    {
     "data": {
      "text/plain": [
       "<matplotlib.axes._subplots.AxesSubplot at 0x1f067fd4278>"
      ]
     },
     "execution_count": 19,
     "metadata": {},
     "output_type": "execute_result"
    },
    {
     "data": {
      "image/png": "[encoded data removed]",
      "text/plain": [
       "<Figure size 432x288 with 1 Axes>"
      ]
     },
     "metadata": {},
     "output_type": "display_data"
    }
   ],
   "source": [
    "df_subsample_rain.plot(kind = 'hist', bins = 5)"
   ]
  },
  {
   "cell_type": "code",
   "execution_count": 20,
   "metadata": {},
   "outputs": [
    {
     "data": {
      "text/plain": [
       "<matplotlib.axes._subplots.AxesSubplot at 0x1f068043ef0>"
      ]
     },
     "execution_count": 20,
     "metadata": {},
     "output_type": "execute_result"
    },
    {
     "data": {
      "image/png": "[encoded data removed]",
      "text/plain": [
       "<Figure size 432x288 with 1 Axes>"
      ]
     },
     "metadata": {},
     "output_type": "display_data"
    }
   ],
   "source": [
    "df_subsample_rain.plot(kind = 'box', vert=False)"
   ]
  },
  {
   "cell_type": "markdown",
   "metadata": {},
   "source": [
    "Looking at the box plot and the histogram we can see that low levels of rain occur more frequent. In our box plot the median is skewed towards the left as opposed to the middle. In our histogram, the data takes the shape of a stiarcase not like a bellcurve like we would have liked. We often call the a right skewed distrubution as the long tail is on the right. \n",
    "\n",
    "## Working with Samples\n",
    "In most real world examples we wont have access to the full population and in the case that would be a lot of data to manage. Generally you will work with sample of data that representative of the data and use asmple statistics such as mean and standard deviation to approximate the parameters of the full data population.\n",
    "\n",
    "The general rule is the larger the sample the better appoximation the distubution of the full population. Alternatively each sample has a sample mean which we can record to form a sampling distribution. With enough samples two thigns happen, one is that the sampling distribution will take on a normal shape reardless of the shape of the population due to the central limit theorem and that the mean of the sampling distribution will be the population mean. "
   ]
  },
  {
   "cell_type": "markdown",
   "metadata": {},
   "source": [
    "## Correlation\n",
    "Using statistics we want to find relationships between different fields in our data. Lets first pull out our temperature and sales data.\n"
   ]
  },
  {
   "cell_type": "code",
   "execution_count": 21,
   "metadata": {},
   "outputs": [
    {
     "data": {
      "text/html": [
       "<div>\n",
       "<style scoped>\n",
       "    .dataframe tbody tr th:only-of-type {\n",
       "        vertical-align: middle;\n",
       "    }\n",
       "\n",
       "    .dataframe tbody tr th {\n",
       "        vertical-align: top;\n",
       "    }\n",
       "\n",
       "    .dataframe thead th {\n",
       "        text-align: right;\n",
       "    }\n",
       "</style>\n",
       "<table border=\"1\" class=\"dataframe\">\n",
       "  <thead>\n",
       "    <tr style=\"text-align: right;\">\n",
       "      <th></th>\n",
       "      <th>Temperature</th>\n",
       "      <th>Sales</th>\n",
       "    </tr>\n",
       "    <tr>\n",
       "      <th>Date</th>\n",
       "      <th></th>\n",
       "      <th></th>\n",
       "    </tr>\n",
       "  </thead>\n",
       "  <tbody>\n",
       "    <tr>\n",
       "      <th>2017-01-08</th>\n",
       "      <td>37.5</td>\n",
       "      <td>15</td>\n",
       "    </tr>\n",
       "    <tr>\n",
       "      <th>2017-01-12</th>\n",
       "      <td>38.2</td>\n",
       "      <td>14</td>\n",
       "    </tr>\n",
       "    <tr>\n",
       "      <th>2017-01-17</th>\n",
       "      <td>32.2</td>\n",
       "      <td>14</td>\n",
       "    </tr>\n",
       "    <tr>\n",
       "      <th>2017-01-24</th>\n",
       "      <td>28.6</td>\n",
       "      <td>12</td>\n",
       "    </tr>\n",
       "    <tr>\n",
       "      <th>2017-01-31</th>\n",
       "      <td>40.4</td>\n",
       "      <td>18</td>\n",
       "    </tr>\n",
       "  </tbody>\n",
       "</table>\n",
       "</div>"
      ],
      "text/plain": [
       "            Temperature  Sales\n",
       "Date                          \n",
       "2017-01-08         37.5     15\n",
       "2017-01-12         38.2     14\n",
       "2017-01-17         32.2     14\n",
       "2017-01-24         28.6     12\n",
       "2017-01-31         40.4     18"
      ]
     },
     "execution_count": 21,
     "metadata": {},
     "output_type": "execute_result"
    }
   ],
   "source": [
    "df_sub_temp_sales = df[[\"Temperature\",\"Sales\"]].sample(20).sort_index()\n",
    "df_sub_temp_sales.head()"
   ]
  },
  {
   "cell_type": "markdown",
   "metadata": {},
   "source": [
    "Next we want to plot our data to see if our eyes can recognize a pattern "
   ]
  },
  {
   "cell_type": "code",
   "execution_count": 22,
   "metadata": {},
   "outputs": [
    {
     "data": {
      "text/plain": [
       "<matplotlib.axes._subplots.AxesSubplot at 0x1f06808f710>"
      ]
     },
     "execution_count": 22,
     "metadata": {},
     "output_type": "execute_result"
    },
    {
     "data": {
      "image/png": "[encoded data removed]",
      "text/plain": [
       "<Figure size 432x288 with 1 Axes>"
      ]
     },
     "metadata": {},
     "output_type": "display_data"
    }
   ],
   "source": [
    "df_sub_temp_sales.plot(x = 'Temperature', y = 'Sales', kind = 'scatter')"
   ]
  },
  {
   "cell_type": "markdown",
   "metadata": {},
   "source": [
    "We notice that as temperature increases we can also see sales increase. We can quantify this relationship by calculating a statistic called correlation. Correrlation values are between 1 and -1 where where the value of represents a positive relationship -1 represent a negitive correrlation which means an increase in one value will represent a decrease in the other field. \n",
    "\n",
    "Note correlation is not the same thing as casusation. While we see that this statistic shows us that higher sale tend to occur on sayds with higher temperatures that does not mean that Rosies sells more lemonade because it's hot. The stat could also be used to say that more lemonade Rosies sells the hotter the weather gets. "
   ]
  },
  {
   "cell_type": "markdown",
   "metadata": {},
   "source": [
    "## Hypothesis Testing\n",
    "In this notebook we have seen how to start making hypotheses about the relationships in our data by combining our statistics of correlations with our sample distribution and some probability to start making\n",
    "hypotheses about our data and testing them. Hypothesis testing is a corner stone of data science and their are many factors to consider and we will be doing a quick look. \n",
    "\n",
    "Suppose we have a full population of lemonade data.\n",
    "\n"
   ]
  },
  {
   "cell_type": "code",
   "execution_count": 23,
   "metadata": {},
   "outputs": [
    {
     "data": {
      "text/plain": [
       "25.323287671232876"
      ]
     },
     "execution_count": 23,
     "metadata": {},
     "output_type": "execute_result"
    }
   ],
   "source": [
    "df_mean_temp = df.Temperature.mean()\n",
    "df.Sales.mean()"
   ]
  },
  {
   "cell_type": "code",
   "execution_count": 24,
   "metadata": {},
   "outputs": [
    {
     "data": {
      "text/html": [
       "<div>\n",
       "<style scoped>\n",
       "    .dataframe tbody tr th:only-of-type {\n",
       "        vertical-align: middle;\n",
       "    }\n",
       "\n",
       "    .dataframe tbody tr th {\n",
       "        vertical-align: top;\n",
       "    }\n",
       "\n",
       "    .dataframe thead th {\n",
       "        text-align: right;\n",
       "    }\n",
       "</style>\n",
       "<table border=\"1\" class=\"dataframe\">\n",
       "  <thead>\n",
       "    <tr style=\"text-align: right;\">\n",
       "      <th></th>\n",
       "      <th>Day</th>\n",
       "      <th>Temperature</th>\n",
       "      <th>Rainfall</th>\n",
       "      <th>Flyers</th>\n",
       "      <th>Price</th>\n",
       "      <th>Sales</th>\n",
       "      <th>Revenue</th>\n",
       "      <th>Unnamed: 8</th>\n",
       "    </tr>\n",
       "    <tr>\n",
       "      <th>Date</th>\n",
       "      <th></th>\n",
       "      <th></th>\n",
       "      <th></th>\n",
       "      <th></th>\n",
       "      <th></th>\n",
       "      <th></th>\n",
       "      <th></th>\n",
       "      <th></th>\n",
       "    </tr>\n",
       "  </thead>\n",
       "  <tbody>\n",
       "    <tr>\n",
       "      <th>2017-06-06</th>\n",
       "      <td>Tuesday</td>\n",
       "      <td>84.2</td>\n",
       "      <td>0.56</td>\n",
       "      <td>44</td>\n",
       "      <td>0.3</td>\n",
       "      <td>34</td>\n",
       "      <td>10.2</td>\n",
       "      <td>NaN</td>\n",
       "    </tr>\n",
       "    <tr>\n",
       "      <th>2017-10-24</th>\n",
       "      <td>Tuesday</td>\n",
       "      <td>61.5</td>\n",
       "      <td>0.74</td>\n",
       "      <td>48</td>\n",
       "      <td>0.3</td>\n",
       "      <td>25</td>\n",
       "      <td>7.5</td>\n",
       "      <td>NaN</td>\n",
       "    </tr>\n",
       "    <tr>\n",
       "      <th>2017-04-26</th>\n",
       "      <td>Wednesday</td>\n",
       "      <td>62.5</td>\n",
       "      <td>0.80</td>\n",
       "      <td>48</td>\n",
       "      <td>0.3</td>\n",
       "      <td>25</td>\n",
       "      <td>7.5</td>\n",
       "      <td>NaN</td>\n",
       "    </tr>\n",
       "    <tr>\n",
       "      <th>2017-07-28</th>\n",
       "      <td>Friday</td>\n",
       "      <td>87.4</td>\n",
       "      <td>0.51</td>\n",
       "      <td>58</td>\n",
       "      <td>0.5</td>\n",
       "      <td>38</td>\n",
       "      <td>19.0</td>\n",
       "      <td>NaN</td>\n",
       "    </tr>\n",
       "    <tr>\n",
       "      <th>2017-06-12</th>\n",
       "      <td>Monday</td>\n",
       "      <td>93.0</td>\n",
       "      <td>0.50</td>\n",
       "      <td>67</td>\n",
       "      <td>0.3</td>\n",
       "      <td>40</td>\n",
       "      <td>12.0</td>\n",
       "      <td>NaN</td>\n",
       "    </tr>\n",
       "  </tbody>\n",
       "</table>\n",
       "</div>"
      ],
      "text/plain": [
       "                  Day  Temperature  Rainfall  Flyers  Price  Sales  Revenue  \\\n",
       "Date                                                                          \n",
       "2017-06-06    Tuesday         84.2      0.56      44    0.3     34     10.2   \n",
       "2017-10-24    Tuesday         61.5      0.74      48    0.3     25      7.5   \n",
       "2017-04-26  Wednesday         62.5      0.80      48    0.3     25      7.5   \n",
       "2017-07-28     Friday         87.4      0.51      58    0.5     38     19.0   \n",
       "2017-06-12     Monday         93.0      0.50      67    0.3     40     12.0   \n",
       "\n",
       "            Unnamed: 8  \n",
       "Date                    \n",
       "2017-06-06         NaN  \n",
       "2017-10-24         NaN  \n",
       "2017-04-26         NaN  \n",
       "2017-07-28         NaN  \n",
       "2017-06-12         NaN  "
      ]
     },
     "execution_count": 24,
     "metadata": {},
     "output_type": "execute_result"
    }
   ],
   "source": [
    "df_sales_sample = df[df.Temperature > df_mean_temp].sample(30)\n",
    "df_sales_sample.head()"
   ]
  },
  {
   "cell_type": "code",
   "execution_count": 25,
   "metadata": {},
   "outputs": [
    {
     "data": {
      "text/plain": [
       "<matplotlib.axes._subplots.AxesSubplot at 0x1f068105e10>"
      ]
     },
     "execution_count": 25,
     "metadata": {},
     "output_type": "execute_result"
    },
    {
     "data": {
      "image/png": "[encoded data removed]",
      "text/plain": [
       "<Figure size 432x288 with 1 Axes>"
      ]
     },
     "metadata": {},
     "output_type": "display_data"
    }
   ],
   "source": [
    "df.Sales.plot(kind = 'hist', bins = 7)"
   ]
  },
  {
   "cell_type": "code",
   "execution_count": 26,
   "metadata": {},
   "outputs": [
    {
     "data": {
      "text/plain": [
       "30.0"
      ]
     },
     "execution_count": 26,
     "metadata": {},
     "output_type": "execute_result"
    }
   ],
   "source": [
    "df_sales_sample.Sales.mean()"
   ]
  },
  {
   "cell_type": "markdown",
   "metadata": {},
   "source": [
    "Our null hypothese is the mean sales for hot days = mean sales for population\n",
    "Sales are not higher on hot days\n",
    "\n",
    "The seoncd hypothesis is for mean sale for hot days > mean sales for population \n",
    "Sales are are higher on hot days\n",
    "\n",
    "How unlikely does our sample mean need to be for use to conclude that it was more than due more than random chance. \n",
    "We determine if the value is significantly higher than the population mean, we usually indicate this value by the greek letter Alpha.\n",
    "\n",
    "If we know the std of the full population we can take a Z test but tipically we dont have that infomation and we instead conduct a T-test. With a big enough sample a T-test will work just as well as a Z-test.\n",
    "Z Test will return a P-Value which the actual the proability of obversing a sample mean atleast as far as the sample mean purely by random chance. \n",
    "\n",
    "If the Alpha is greater than our P-Value we will reject our null hypothesis and accept our alternative hypothesis.\n",
    "\n",
    "\n"
   ]
  }
 ],
 "metadata": {
  "kernelspec": {
   "display_name": "Python 3",
   "language": "python",
   "name": "python3"
  },
  "language_info": {
   "codemirror_mode": {
    "name": "ipython",
    "version": 3
   },
   "file_extension": ".py",
   "mimetype": "text/x-python",
   "name": "python",
   "nbconvert_exporter": "python",
   "pygments_lexer": "ipython3",
   "version": "3.6.5"
  }
 },
 "nbformat": 4,
 "nbformat_minor": 2
}
