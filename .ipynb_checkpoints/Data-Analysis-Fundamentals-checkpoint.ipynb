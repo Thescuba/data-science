{
 "cells": [
  {
   "cell_type": "markdown",
   "metadata": {},
   "source": [
    "# Data Analysis Fundamentals\n",
    "## Analyzing and Visualizing Data\n",
    "### Aggregating Data\n",
    "Aggergating data is often the first analysis you want to perform in order to summarize the data and get a feel for it as a whole. Often it is common to count the number of rows of data you have and the sum of your numeric values. So lets get started up load in our data. "
   ]
  },
  {
   "cell_type": "code",
   "execution_count": 1,
   "metadata": {},
   "outputs": [
    {
     "data": {
      "text/html": [
       "<div>\n",
       "<style scoped>\n",
       "    .dataframe tbody tr th:only-of-type {\n",
       "        vertical-align: middle;\n",
       "    }\n",
       "\n",
       "    .dataframe tbody tr th {\n",
       "        vertical-align: top;\n",
       "    }\n",
       "\n",
       "    .dataframe thead th {\n",
       "        text-align: right;\n",
       "    }\n",
       "</style>\n",
       "<table border=\"1\" class=\"dataframe\">\n",
       "  <thead>\n",
       "    <tr style=\"text-align: right;\">\n",
       "      <th></th>\n",
       "      <th>Day</th>\n",
       "      <th>Temperature</th>\n",
       "      <th>Rainfall</th>\n",
       "      <th>Flyers</th>\n",
       "      <th>Price</th>\n",
       "      <th>Sales</th>\n",
       "      <th>Revenue</th>\n",
       "    </tr>\n",
       "    <tr>\n",
       "      <th>Date</th>\n",
       "      <th></th>\n",
       "      <th></th>\n",
       "      <th></th>\n",
       "      <th></th>\n",
       "      <th></th>\n",
       "      <th></th>\n",
       "      <th></th>\n",
       "    </tr>\n",
       "  </thead>\n",
       "  <tbody>\n",
       "    <tr>\n",
       "      <th>2017-01-01</th>\n",
       "      <td>Sunday</td>\n",
       "      <td>80.60</td>\n",
       "      <td>2.00</td>\n",
       "      <td>15</td>\n",
       "      <td>0.3</td>\n",
       "      <td>10</td>\n",
       "      <td>3.0</td>\n",
       "    </tr>\n",
       "    <tr>\n",
       "      <th>2017-02-01</th>\n",
       "      <td>Monday</td>\n",
       "      <td>84.02</td>\n",
       "      <td>1.33</td>\n",
       "      <td>15</td>\n",
       "      <td>0.3</td>\n",
       "      <td>13</td>\n",
       "      <td>3.9</td>\n",
       "    </tr>\n",
       "    <tr>\n",
       "      <th>2017-03-01</th>\n",
       "      <td>Tuesday</td>\n",
       "      <td>94.10</td>\n",
       "      <td>1.33</td>\n",
       "      <td>27</td>\n",
       "      <td>0.3</td>\n",
       "      <td>15</td>\n",
       "      <td>4.5</td>\n",
       "    </tr>\n",
       "    <tr>\n",
       "      <th>2017-04-01</th>\n",
       "      <td>Wednesday</td>\n",
       "      <td>111.38</td>\n",
       "      <td>1.05</td>\n",
       "      <td>28</td>\n",
       "      <td>0.3</td>\n",
       "      <td>17</td>\n",
       "      <td>5.1</td>\n",
       "    </tr>\n",
       "    <tr>\n",
       "      <th>2017-05-01</th>\n",
       "      <td>Thursday</td>\n",
       "      <td>108.32</td>\n",
       "      <td>1.00</td>\n",
       "      <td>33</td>\n",
       "      <td>0.3</td>\n",
       "      <td>18</td>\n",
       "      <td>5.4</td>\n",
       "    </tr>\n",
       "  </tbody>\n",
       "</table>\n",
       "</div>"
      ],
      "text/plain": [
       "                  Day  Temperature  Rainfall  Flyers  Price  Sales  Revenue\n",
       "Date                                                                       \n",
       "2017-01-01     Sunday        80.60      2.00      15    0.3     10      3.0\n",
       "2017-02-01     Monday        84.02      1.33      15    0.3     13      3.9\n",
       "2017-03-01    Tuesday        94.10      1.33      27    0.3     15      4.5\n",
       "2017-04-01  Wednesday       111.38      1.05      28    0.3     17      5.1\n",
       "2017-05-01   Thursday       108.32      1.00      33    0.3     18      5.4"
      ]
     },
     "execution_count": 1,
     "metadata": {},
     "output_type": "execute_result"
    }
   ],
   "source": [
    "%matplotlib inline\n",
    "import pandas as pd\n",
    "from matplotlib import pyplot as plt\n",
    "df = pd.read_csv('data/Lemonade-2.csv', index_col = 'Date', parse_dates = True, na_values = 'nan' )\n",
    "df_2_week = df.head(14)\n",
    "df.head()"
   ]
  },
  {
   "cell_type": "code",
   "execution_count": 2,
   "metadata": {},
   "outputs": [
    {
     "name": "stdout",
     "output_type": "stream",
     "text": [
      "<class 'pandas.core.frame.DataFrame'>\n",
      "DatetimeIndex: 14 entries, 2017-01-01 to 2017-01-14\n",
      "Data columns (total 7 columns):\n",
      "Day            14 non-null object\n",
      "Temperature    14 non-null float64\n",
      "Rainfall       14 non-null float64\n",
      "Flyers         14 non-null int64\n",
      "Price          14 non-null float64\n",
      "Sales          14 non-null int64\n",
      "Revenue        14 non-null float64\n",
      "dtypes: float64(4), int64(2), object(1)\n",
      "memory usage: 896.0+ bytes\n"
     ]
    }
   ],
   "source": [
    "df_2_week.info()"
   ]
  },
  {
   "cell_type": "markdown",
   "metadata": {},
   "source": [
    "Using .info() we will be able to see the count and data types but for our data it better we use .describe()"
   ]
  },
  {
   "cell_type": "code",
   "execution_count": 3,
   "metadata": {},
   "outputs": [
    {
     "data": {
      "text/html": [
       "<div>\n",
       "<style scoped>\n",
       "    .dataframe tbody tr th:only-of-type {\n",
       "        vertical-align: middle;\n",
       "    }\n",
       "\n",
       "    .dataframe tbody tr th {\n",
       "        vertical-align: top;\n",
       "    }\n",
       "\n",
       "    .dataframe thead th {\n",
       "        text-align: right;\n",
       "    }\n",
       "</style>\n",
       "<table border=\"1\" class=\"dataframe\">\n",
       "  <thead>\n",
       "    <tr style=\"text-align: right;\">\n",
       "      <th></th>\n",
       "      <th>Temperature</th>\n",
       "      <th>Rainfall</th>\n",
       "      <th>Flyers</th>\n",
       "      <th>Price</th>\n",
       "      <th>Sales</th>\n",
       "      <th>Revenue</th>\n",
       "    </tr>\n",
       "  </thead>\n",
       "  <tbody>\n",
       "    <tr>\n",
       "      <th>count</th>\n",
       "      <td>14.000000</td>\n",
       "      <td>14.000000</td>\n",
       "      <td>14.000000</td>\n",
       "      <td>1.400000e+01</td>\n",
       "      <td>14.000000</td>\n",
       "      <td>14.000000</td>\n",
       "    </tr>\n",
       "    <tr>\n",
       "      <th>mean</th>\n",
       "      <td>97.121429</td>\n",
       "      <td>1.317857</td>\n",
       "      <td>23.000000</td>\n",
       "      <td>3.000000e-01</td>\n",
       "      <td>14.642857</td>\n",
       "      <td>4.392857</td>\n",
       "    </tr>\n",
       "    <tr>\n",
       "      <th>std</th>\n",
       "      <td>11.269380</td>\n",
       "      <td>0.272910</td>\n",
       "      <td>6.101702</td>\n",
       "      <td>5.760664e-17</td>\n",
       "      <td>2.590133</td>\n",
       "      <td>0.777040</td>\n",
       "    </tr>\n",
       "    <tr>\n",
       "      <th>min</th>\n",
       "      <td>77.540000</td>\n",
       "      <td>1.000000</td>\n",
       "      <td>15.000000</td>\n",
       "      <td>3.000000e-01</td>\n",
       "      <td>10.000000</td>\n",
       "      <td>3.000000</td>\n",
       "    </tr>\n",
       "    <tr>\n",
       "      <th>25%</th>\n",
       "      <td>90.815000</td>\n",
       "      <td>1.082500</td>\n",
       "      <td>19.000000</td>\n",
       "      <td>3.000000e-01</td>\n",
       "      <td>13.000000</td>\n",
       "      <td>3.900000</td>\n",
       "    </tr>\n",
       "    <tr>\n",
       "      <th>50%</th>\n",
       "      <td>99.500000</td>\n",
       "      <td>1.330000</td>\n",
       "      <td>23.000000</td>\n",
       "      <td>3.000000e-01</td>\n",
       "      <td>15.000000</td>\n",
       "      <td>4.500000</td>\n",
       "    </tr>\n",
       "    <tr>\n",
       "      <th>75%</th>\n",
       "      <td>106.430000</td>\n",
       "      <td>1.487500</td>\n",
       "      <td>27.750000</td>\n",
       "      <td>3.000000e-01</td>\n",
       "      <td>17.000000</td>\n",
       "      <td>5.100000</td>\n",
       "    </tr>\n",
       "    <tr>\n",
       "      <th>max</th>\n",
       "      <td>111.380000</td>\n",
       "      <td>2.000000</td>\n",
       "      <td>33.000000</td>\n",
       "      <td>3.000000e-01</td>\n",
       "      <td>18.000000</td>\n",
       "      <td>5.400000</td>\n",
       "    </tr>\n",
       "  </tbody>\n",
       "</table>\n",
       "</div>"
      ],
      "text/plain": [
       "       Temperature   Rainfall     Flyers         Price      Sales    Revenue\n",
       "count    14.000000  14.000000  14.000000  1.400000e+01  14.000000  14.000000\n",
       "mean     97.121429   1.317857  23.000000  3.000000e-01  14.642857   4.392857\n",
       "std      11.269380   0.272910   6.101702  5.760664e-17   2.590133   0.777040\n",
       "min      77.540000   1.000000  15.000000  3.000000e-01  10.000000   3.000000\n",
       "25%      90.815000   1.082500  19.000000  3.000000e-01  13.000000   3.900000\n",
       "50%      99.500000   1.330000  23.000000  3.000000e-01  15.000000   4.500000\n",
       "75%     106.430000   1.487500  27.750000  3.000000e-01  17.000000   5.100000\n",
       "max     111.380000   2.000000  33.000000  3.000000e-01  18.000000   5.400000"
      ]
     },
     "execution_count": 3,
     "metadata": {},
     "output_type": "execute_result"
    }
   ],
   "source": [
    "df_2_week.describe()"
   ]
  },
  {
   "cell_type": "markdown",
   "metadata": {},
   "source": [
    "The only thing that is missing from .describe() is the sum() but that can be simple as running .sum()"
   ]
  },
  {
   "cell_type": "code",
   "execution_count": 4,
   "metadata": {},
   "outputs": [
    {
     "data": {
      "text/plain": [
       "Day            SundayMondayTuesdayWednesdayThursdayFridaySatu...\n",
       "Temperature                                               1359.7\n",
       "Rainfall                                                   18.45\n",
       "Flyers                                                       322\n",
       "Price                                                        4.2\n",
       "Sales                                                        205\n",
       "Revenue                                                     61.5\n",
       "dtype: object"
      ]
     },
     "execution_count": 4,
     "metadata": {},
     "output_type": "execute_result"
    }
   ],
   "source": [
    "df_2_week.sum()"
   ]
  },
  {
   "cell_type": "markdown",
   "metadata": {},
   "source": [
    "Some of the sum values are potentially useful such as total number of sales, total flyer distributed, total revenue and total rain fall. The rest don't seem too have much potential such as total temperature and total price. The power of the mean is it give us a good feel of a typicial value of the field in the dataset as a whole. The min is the lowest value and max is the highest. We can see that rosie mininum sale in these two weeks was \\$10 and her highest selling day was \\$18."
   ]
  },
  {
   "cell_type": "markdown",
   "metadata": {},
   "source": [
    "## Grouping and Summarizing Data\n",
    "When our data includes categorical it may be a good idea to group the data by these catagories can calculate subtotals"
   ]
  },
  {
   "cell_type": "code",
   "execution_count": 5,
   "metadata": {},
   "outputs": [
    {
     "data": {
      "text/html": [
       "<div>\n",
       "<style scoped>\n",
       "    .dataframe tbody tr th:only-of-type {\n",
       "        vertical-align: middle;\n",
       "    }\n",
       "\n",
       "    .dataframe tbody tr th {\n",
       "        vertical-align: top;\n",
       "    }\n",
       "\n",
       "    .dataframe thead tr th {\n",
       "        text-align: left;\n",
       "    }\n",
       "\n",
       "    .dataframe thead tr:last-of-type th {\n",
       "        text-align: right;\n",
       "    }\n",
       "</style>\n",
       "<table border=\"1\" class=\"dataframe\">\n",
       "  <thead>\n",
       "    <tr>\n",
       "      <th></th>\n",
       "      <th colspan=\"8\" halign=\"left\">Flyers</th>\n",
       "      <th colspan=\"2\" halign=\"left\">Price</th>\n",
       "      <th>...</th>\n",
       "      <th colspan=\"2\" halign=\"left\">Sales</th>\n",
       "      <th colspan=\"8\" halign=\"left\">Temperature</th>\n",
       "    </tr>\n",
       "    <tr>\n",
       "      <th></th>\n",
       "      <th>count</th>\n",
       "      <th>mean</th>\n",
       "      <th>std</th>\n",
       "      <th>min</th>\n",
       "      <th>25%</th>\n",
       "      <th>50%</th>\n",
       "      <th>75%</th>\n",
       "      <th>max</th>\n",
       "      <th>count</th>\n",
       "      <th>mean</th>\n",
       "      <th>...</th>\n",
       "      <th>75%</th>\n",
       "      <th>max</th>\n",
       "      <th>count</th>\n",
       "      <th>mean</th>\n",
       "      <th>std</th>\n",
       "      <th>min</th>\n",
       "      <th>25%</th>\n",
       "      <th>50%</th>\n",
       "      <th>75%</th>\n",
       "      <th>max</th>\n",
       "    </tr>\n",
       "    <tr>\n",
       "      <th>Day</th>\n",
       "      <th></th>\n",
       "      <th></th>\n",
       "      <th></th>\n",
       "      <th></th>\n",
       "      <th></th>\n",
       "      <th></th>\n",
       "      <th></th>\n",
       "      <th></th>\n",
       "      <th></th>\n",
       "      <th></th>\n",
       "      <th></th>\n",
       "      <th></th>\n",
       "      <th></th>\n",
       "      <th></th>\n",
       "      <th></th>\n",
       "      <th></th>\n",
       "      <th></th>\n",
       "      <th></th>\n",
       "      <th></th>\n",
       "      <th></th>\n",
       "      <th></th>\n",
       "    </tr>\n",
       "  </thead>\n",
       "  <tbody>\n",
       "    <tr>\n",
       "      <th>Friday</th>\n",
       "      <td>2.0</td>\n",
       "      <td>21.0</td>\n",
       "      <td>2.828427</td>\n",
       "      <td>19.0</td>\n",
       "      <td>20.00</td>\n",
       "      <td>21.0</td>\n",
       "      <td>22.00</td>\n",
       "      <td>23.0</td>\n",
       "      <td>2.0</td>\n",
       "      <td>0.3</td>\n",
       "      <td>...</td>\n",
       "      <td>14.00</td>\n",
       "      <td>15.0</td>\n",
       "      <td>2.0</td>\n",
       "      <td>88.52</td>\n",
       "      <td>15.528065</td>\n",
       "      <td>77.54</td>\n",
       "      <td>83.030</td>\n",
       "      <td>88.52</td>\n",
       "      <td>94.010</td>\n",
       "      <td>99.50</td>\n",
       "    </tr>\n",
       "    <tr>\n",
       "      <th>Monday</th>\n",
       "      <td>2.0</td>\n",
       "      <td>17.5</td>\n",
       "      <td>3.535534</td>\n",
       "      <td>15.0</td>\n",
       "      <td>16.25</td>\n",
       "      <td>17.5</td>\n",
       "      <td>18.75</td>\n",
       "      <td>20.0</td>\n",
       "      <td>2.0</td>\n",
       "      <td>0.3</td>\n",
       "      <td>...</td>\n",
       "      <td>16.00</td>\n",
       "      <td>17.0</td>\n",
       "      <td>2.0</td>\n",
       "      <td>92.30</td>\n",
       "      <td>11.709688</td>\n",
       "      <td>84.02</td>\n",
       "      <td>88.160</td>\n",
       "      <td>92.30</td>\n",
       "      <td>96.440</td>\n",
       "      <td>100.58</td>\n",
       "    </tr>\n",
       "    <tr>\n",
       "      <th>Saturday</th>\n",
       "      <td>2.0</td>\n",
       "      <td>21.0</td>\n",
       "      <td>2.828427</td>\n",
       "      <td>19.0</td>\n",
       "      <td>20.00</td>\n",
       "      <td>21.0</td>\n",
       "      <td>22.00</td>\n",
       "      <td>23.0</td>\n",
       "      <td>2.0</td>\n",
       "      <td>0.3</td>\n",
       "      <td>...</td>\n",
       "      <td>16.00</td>\n",
       "      <td>17.0</td>\n",
       "      <td>2.0</td>\n",
       "      <td>101.30</td>\n",
       "      <td>14.255273</td>\n",
       "      <td>91.22</td>\n",
       "      <td>96.260</td>\n",
       "      <td>101.30</td>\n",
       "      <td>106.340</td>\n",
       "      <td>111.38</td>\n",
       "    </tr>\n",
       "    <tr>\n",
       "      <th>Sunday</th>\n",
       "      <td>2.0</td>\n",
       "      <td>21.5</td>\n",
       "      <td>9.192388</td>\n",
       "      <td>15.0</td>\n",
       "      <td>18.25</td>\n",
       "      <td>21.5</td>\n",
       "      <td>24.75</td>\n",
       "      <td>28.0</td>\n",
       "      <td>2.0</td>\n",
       "      <td>0.3</td>\n",
       "      <td>...</td>\n",
       "      <td>13.75</td>\n",
       "      <td>15.0</td>\n",
       "      <td>2.0</td>\n",
       "      <td>90.05</td>\n",
       "      <td>13.364318</td>\n",
       "      <td>80.60</td>\n",
       "      <td>85.325</td>\n",
       "      <td>90.05</td>\n",
       "      <td>94.775</td>\n",
       "      <td>99.50</td>\n",
       "    </tr>\n",
       "    <tr>\n",
       "      <th>Thursday</th>\n",
       "      <td>2.0</td>\n",
       "      <td>24.5</td>\n",
       "      <td>12.020815</td>\n",
       "      <td>16.0</td>\n",
       "      <td>20.25</td>\n",
       "      <td>24.5</td>\n",
       "      <td>28.75</td>\n",
       "      <td>33.0</td>\n",
       "      <td>2.0</td>\n",
       "      <td>0.3</td>\n",
       "      <td>...</td>\n",
       "      <td>17.00</td>\n",
       "      <td>18.0</td>\n",
       "      <td>2.0</td>\n",
       "      <td>104.54</td>\n",
       "      <td>5.345727</td>\n",
       "      <td>100.76</td>\n",
       "      <td>102.650</td>\n",
       "      <td>104.54</td>\n",
       "      <td>106.430</td>\n",
       "      <td>108.32</td>\n",
       "    </tr>\n",
       "    <tr>\n",
       "      <th>Tuesday</th>\n",
       "      <td>2.0</td>\n",
       "      <td>30.0</td>\n",
       "      <td>4.242641</td>\n",
       "      <td>27.0</td>\n",
       "      <td>28.50</td>\n",
       "      <td>30.0</td>\n",
       "      <td>31.50</td>\n",
       "      <td>33.0</td>\n",
       "      <td>2.0</td>\n",
       "      <td>0.3</td>\n",
       "      <td>...</td>\n",
       "      <td>17.25</td>\n",
       "      <td>18.0</td>\n",
       "      <td>2.0</td>\n",
       "      <td>102.11</td>\n",
       "      <td>11.327851</td>\n",
       "      <td>94.10</td>\n",
       "      <td>98.105</td>\n",
       "      <td>102.11</td>\n",
       "      <td>106.115</td>\n",
       "      <td>110.12</td>\n",
       "    </tr>\n",
       "    <tr>\n",
       "      <th>Wednesday</th>\n",
       "      <td>2.0</td>\n",
       "      <td>25.5</td>\n",
       "      <td>3.535534</td>\n",
       "      <td>23.0</td>\n",
       "      <td>24.25</td>\n",
       "      <td>25.5</td>\n",
       "      <td>26.75</td>\n",
       "      <td>28.0</td>\n",
       "      <td>2.0</td>\n",
       "      <td>0.3</td>\n",
       "      <td>...</td>\n",
       "      <td>15.75</td>\n",
       "      <td>17.0</td>\n",
       "      <td>2.0</td>\n",
       "      <td>101.03</td>\n",
       "      <td>14.637110</td>\n",
       "      <td>90.68</td>\n",
       "      <td>95.855</td>\n",
       "      <td>101.03</td>\n",
       "      <td>106.205</td>\n",
       "      <td>111.38</td>\n",
       "    </tr>\n",
       "  </tbody>\n",
       "</table>\n",
       "<p>7 rows × 48 columns</p>\n",
       "</div>"
      ],
      "text/plain": [
       "          Flyers                                                  Price       \\\n",
       "           count  mean        std   min    25%   50%    75%   max count mean   \n",
       "Day                                                                            \n",
       "Friday       2.0  21.0   2.828427  19.0  20.00  21.0  22.00  23.0   2.0  0.3   \n",
       "Monday       2.0  17.5   3.535534  15.0  16.25  17.5  18.75  20.0   2.0  0.3   \n",
       "Saturday     2.0  21.0   2.828427  19.0  20.00  21.0  22.00  23.0   2.0  0.3   \n",
       "Sunday       2.0  21.5   9.192388  15.0  18.25  21.5  24.75  28.0   2.0  0.3   \n",
       "Thursday     2.0  24.5  12.020815  16.0  20.25  24.5  28.75  33.0   2.0  0.3   \n",
       "Tuesday      2.0  30.0   4.242641  27.0  28.50  30.0  31.50  33.0   2.0  0.3   \n",
       "Wednesday    2.0  25.5   3.535534  23.0  24.25  25.5  26.75  28.0   2.0  0.3   \n",
       "\n",
       "            ...    Sales       Temperature                             \\\n",
       "            ...      75%   max       count    mean        std     min   \n",
       "Day         ...                                                         \n",
       "Friday      ...    14.00  15.0         2.0   88.52  15.528065   77.54   \n",
       "Monday      ...    16.00  17.0         2.0   92.30  11.709688   84.02   \n",
       "Saturday    ...    16.00  17.0         2.0  101.30  14.255273   91.22   \n",
       "Sunday      ...    13.75  15.0         2.0   90.05  13.364318   80.60   \n",
       "Thursday    ...    17.00  18.0         2.0  104.54   5.345727  100.76   \n",
       "Tuesday     ...    17.25  18.0         2.0  102.11  11.327851   94.10   \n",
       "Wednesday   ...    15.75  17.0         2.0  101.03  14.637110   90.68   \n",
       "\n",
       "                                             \n",
       "               25%     50%      75%     max  \n",
       "Day                                          \n",
       "Friday      83.030   88.52   94.010   99.50  \n",
       "Monday      88.160   92.30   96.440  100.58  \n",
       "Saturday    96.260  101.30  106.340  111.38  \n",
       "Sunday      85.325   90.05   94.775   99.50  \n",
       "Thursday   102.650  104.54  106.430  108.32  \n",
       "Tuesday     98.105  102.11  106.115  110.12  \n",
       "Wednesday   95.855  101.03  106.205  111.38  \n",
       "\n",
       "[7 rows x 48 columns]"
      ]
     },
     "execution_count": 5,
     "metadata": {},
     "output_type": "execute_result"
    }
   ],
   "source": [
    "df_2_week.groupby('Day').describe()"
   ]
  },
  {
   "cell_type": "code",
   "execution_count": 6,
   "metadata": {},
   "outputs": [
    {
     "data": {
      "text/html": [
       "<div>\n",
       "<style scoped>\n",
       "    .dataframe tbody tr th:only-of-type {\n",
       "        vertical-align: middle;\n",
       "    }\n",
       "\n",
       "    .dataframe tbody tr th {\n",
       "        vertical-align: top;\n",
       "    }\n",
       "\n",
       "    .dataframe thead th {\n",
       "        text-align: right;\n",
       "    }\n",
       "</style>\n",
       "<table border=\"1\" class=\"dataframe\">\n",
       "  <thead>\n",
       "    <tr style=\"text-align: right;\">\n",
       "      <th></th>\n",
       "      <th>Temperature</th>\n",
       "      <th>Rainfall</th>\n",
       "      <th>Flyers</th>\n",
       "      <th>Price</th>\n",
       "      <th>Sales</th>\n",
       "      <th>Revenue</th>\n",
       "    </tr>\n",
       "    <tr>\n",
       "      <th>Day</th>\n",
       "      <th></th>\n",
       "      <th></th>\n",
       "      <th></th>\n",
       "      <th></th>\n",
       "      <th></th>\n",
       "      <th></th>\n",
       "    </tr>\n",
       "  </thead>\n",
       "  <tbody>\n",
       "    <tr>\n",
       "      <th>Friday</th>\n",
       "      <td>177.04</td>\n",
       "      <td>2.87</td>\n",
       "      <td>42</td>\n",
       "      <td>0.6</td>\n",
       "      <td>26</td>\n",
       "      <td>7.8</td>\n",
       "    </tr>\n",
       "    <tr>\n",
       "      <th>Monday</th>\n",
       "      <td>184.60</td>\n",
       "      <td>2.51</td>\n",
       "      <td>35</td>\n",
       "      <td>0.6</td>\n",
       "      <td>30</td>\n",
       "      <td>9.0</td>\n",
       "    </tr>\n",
       "    <tr>\n",
       "      <th>Saturday</th>\n",
       "      <td>202.60</td>\n",
       "      <td>2.59</td>\n",
       "      <td>42</td>\n",
       "      <td>0.6</td>\n",
       "      <td>30</td>\n",
       "      <td>9.0</td>\n",
       "    </tr>\n",
       "    <tr>\n",
       "      <th>Sunday</th>\n",
       "      <td>180.10</td>\n",
       "      <td>3.18</td>\n",
       "      <td>43</td>\n",
       "      <td>0.6</td>\n",
       "      <td>25</td>\n",
       "      <td>7.5</td>\n",
       "    </tr>\n",
       "    <tr>\n",
       "      <th>Thursday</th>\n",
       "      <td>209.08</td>\n",
       "      <td>2.33</td>\n",
       "      <td>49</td>\n",
       "      <td>0.6</td>\n",
       "      <td>32</td>\n",
       "      <td>9.6</td>\n",
       "    </tr>\n",
       "    <tr>\n",
       "      <th>Tuesday</th>\n",
       "      <td>204.22</td>\n",
       "      <td>2.38</td>\n",
       "      <td>60</td>\n",
       "      <td>0.6</td>\n",
       "      <td>33</td>\n",
       "      <td>9.9</td>\n",
       "    </tr>\n",
       "    <tr>\n",
       "      <th>Wednesday</th>\n",
       "      <td>202.06</td>\n",
       "      <td>2.59</td>\n",
       "      <td>51</td>\n",
       "      <td>0.6</td>\n",
       "      <td>29</td>\n",
       "      <td>8.7</td>\n",
       "    </tr>\n",
       "  </tbody>\n",
       "</table>\n",
       "</div>"
      ],
      "text/plain": [
       "           Temperature  Rainfall  Flyers  Price  Sales  Revenue\n",
       "Day                                                            \n",
       "Friday          177.04      2.87      42    0.6     26      7.8\n",
       "Monday          184.60      2.51      35    0.6     30      9.0\n",
       "Saturday        202.60      2.59      42    0.6     30      9.0\n",
       "Sunday          180.10      3.18      43    0.6     25      7.5\n",
       "Thursday        209.08      2.33      49    0.6     32      9.6\n",
       "Tuesday         204.22      2.38      60    0.6     33      9.9\n",
       "Wednesday       202.06      2.59      51    0.6     29      8.7"
      ]
     },
     "execution_count": 6,
     "metadata": {},
     "output_type": "execute_result"
    }
   ],
   "source": [
    "df_2_week.groupby('Day').sum()"
   ]
  },
  {
   "cell_type": "code",
   "execution_count": 7,
   "metadata": {},
   "outputs": [
    {
     "data": {
      "text/html": [
       "<div>\n",
       "<style scoped>\n",
       "    .dataframe tbody tr th:only-of-type {\n",
       "        vertical-align: middle;\n",
       "    }\n",
       "\n",
       "    .dataframe tbody tr th {\n",
       "        vertical-align: top;\n",
       "    }\n",
       "\n",
       "    .dataframe thead th {\n",
       "        text-align: right;\n",
       "    }\n",
       "</style>\n",
       "<table border=\"1\" class=\"dataframe\">\n",
       "  <thead>\n",
       "    <tr style=\"text-align: right;\">\n",
       "      <th></th>\n",
       "      <th>Temperature</th>\n",
       "      <th>Rainfall</th>\n",
       "      <th>Flyers</th>\n",
       "      <th>Price</th>\n",
       "      <th>Sales</th>\n",
       "      <th>Revenue</th>\n",
       "    </tr>\n",
       "    <tr>\n",
       "      <th>Day</th>\n",
       "      <th></th>\n",
       "      <th></th>\n",
       "      <th></th>\n",
       "      <th></th>\n",
       "      <th></th>\n",
       "      <th></th>\n",
       "    </tr>\n",
       "  </thead>\n",
       "  <tbody>\n",
       "    <tr>\n",
       "      <th>Friday</th>\n",
       "      <td>142.042308</td>\n",
       "      <td>0.817115</td>\n",
       "      <td>40.326923</td>\n",
       "      <td>0.330769</td>\n",
       "      <td>25.384615</td>\n",
       "      <td>8.630769</td>\n",
       "    </tr>\n",
       "    <tr>\n",
       "      <th>Monday</th>\n",
       "      <td>141.599231</td>\n",
       "      <td>0.823462</td>\n",
       "      <td>39.788462</td>\n",
       "      <td>0.334615</td>\n",
       "      <td>25.461538</td>\n",
       "      <td>8.788462</td>\n",
       "    </tr>\n",
       "    <tr>\n",
       "      <th>Saturday</th>\n",
       "      <td>141.675385</td>\n",
       "      <td>0.823077</td>\n",
       "      <td>38.403846</td>\n",
       "      <td>0.334615</td>\n",
       "      <td>25.346154</td>\n",
       "      <td>8.803846</td>\n",
       "    </tr>\n",
       "    <tr>\n",
       "      <th>Sunday</th>\n",
       "      <td>139.585660</td>\n",
       "      <td>0.873585</td>\n",
       "      <td>40.320755</td>\n",
       "      <td>0.333962</td>\n",
       "      <td>24.830189</td>\n",
       "      <td>8.566038</td>\n",
       "    </tr>\n",
       "    <tr>\n",
       "      <th>Thursday</th>\n",
       "      <td>142.025000</td>\n",
       "      <td>0.812500</td>\n",
       "      <td>40.711538</td>\n",
       "      <td>0.334615</td>\n",
       "      <td>25.673077</td>\n",
       "      <td>8.863462</td>\n",
       "    </tr>\n",
       "    <tr>\n",
       "      <th>Tuesday</th>\n",
       "      <td>139.899615</td>\n",
       "      <td>0.829423</td>\n",
       "      <td>41.057692</td>\n",
       "      <td>0.334615</td>\n",
       "      <td>25.134615</td>\n",
       "      <td>8.675000</td>\n",
       "    </tr>\n",
       "    <tr>\n",
       "      <th>Wednesday</th>\n",
       "      <td>142.419615</td>\n",
       "      <td>0.806154</td>\n",
       "      <td>41.384615</td>\n",
       "      <td>0.334615</td>\n",
       "      <td>25.442308</td>\n",
       "      <td>8.732692</td>\n",
       "    </tr>\n",
       "  </tbody>\n",
       "</table>\n",
       "</div>"
      ],
      "text/plain": [
       "           Temperature  Rainfall     Flyers     Price      Sales   Revenue\n",
       "Day                                                                       \n",
       "Friday      142.042308  0.817115  40.326923  0.330769  25.384615  8.630769\n",
       "Monday      141.599231  0.823462  39.788462  0.334615  25.461538  8.788462\n",
       "Saturday    141.675385  0.823077  38.403846  0.334615  25.346154  8.803846\n",
       "Sunday      139.585660  0.873585  40.320755  0.333962  24.830189  8.566038\n",
       "Thursday    142.025000  0.812500  40.711538  0.334615  25.673077  8.863462\n",
       "Tuesday     139.899615  0.829423  41.057692  0.334615  25.134615  8.675000\n",
       "Wednesday   142.419615  0.806154  41.384615  0.334615  25.442308  8.732692"
      ]
     },
     "execution_count": 7,
     "metadata": {},
     "output_type": "execute_result"
    }
   ],
   "source": [
    "df.groupby('Day').mean()"
   ]
  },
  {
   "cell_type": "code",
   "execution_count": 8,
   "metadata": {},
   "outputs": [
    {
     "data": {
      "text/html": [
       "<div>\n",
       "<style scoped>\n",
       "    .dataframe tbody tr th:only-of-type {\n",
       "        vertical-align: middle;\n",
       "    }\n",
       "\n",
       "    .dataframe tbody tr th {\n",
       "        vertical-align: top;\n",
       "    }\n",
       "\n",
       "    .dataframe thead th {\n",
       "        text-align: right;\n",
       "    }\n",
       "</style>\n",
       "<table border=\"1\" class=\"dataframe\">\n",
       "  <thead>\n",
       "    <tr style=\"text-align: right;\">\n",
       "      <th></th>\n",
       "      <th>Temperature</th>\n",
       "      <th>Rainfall</th>\n",
       "      <th>Flyers</th>\n",
       "      <th>Sales</th>\n",
       "      <th>Revenue</th>\n",
       "    </tr>\n",
       "    <tr>\n",
       "      <th>Price</th>\n",
       "      <th></th>\n",
       "      <th></th>\n",
       "      <th></th>\n",
       "      <th></th>\n",
       "      <th></th>\n",
       "    </tr>\n",
       "  </thead>\n",
       "  <tbody>\n",
       "    <tr>\n",
       "      <th>0.3</th>\n",
       "      <td>134.669505</td>\n",
       "      <td>0.873960</td>\n",
       "      <td>37.871287</td>\n",
       "      <td>23.726073</td>\n",
       "      <td>7.117822</td>\n",
       "    </tr>\n",
       "    <tr>\n",
       "      <th>0.5</th>\n",
       "      <td>173.799355</td>\n",
       "      <td>0.595161</td>\n",
       "      <td>52.080645</td>\n",
       "      <td>33.129032</td>\n",
       "      <td>16.564516</td>\n",
       "    </tr>\n",
       "  </tbody>\n",
       "</table>\n",
       "</div>"
      ],
      "text/plain": [
       "       Temperature  Rainfall     Flyers      Sales    Revenue\n",
       "Price                                                        \n",
       "0.3     134.669505  0.873960  37.871287  23.726073   7.117822\n",
       "0.5     173.799355  0.595161  52.080645  33.129032  16.564516"
      ]
     },
     "execution_count": 8,
     "metadata": {},
     "output_type": "execute_result"
    }
   ],
   "source": [
    "df.groupby('Price').mean()"
   ]
  },
  {
   "cell_type": "markdown",
   "metadata": {},
   "source": [
    "## Visualizing Data\n",
    "While you may understand a lot from exampling tables of data and creating aggregations, it is generally easier to identify and explore trends and replationships in your data by creating visualization usually refered to as graphs, plots or charts. First thing we may want to check out is how our revenue looks over time."
   ]
  },
  {
   "cell_type": "code",
   "execution_count": 9,
   "metadata": {},
   "outputs": [
    {
     "data": {
      "text/plain": [
       "[Text(0,0.5,'Revenue in $'),\n",
       " Text(0.5,1,'Revenue over first two weeks of the year')]"
      ]
     },
     "execution_count": 9,
     "metadata": {},
     "output_type": "execute_result"
    },
    {
     "data": {
      "image/png": "[encoded data removed]",
      "text/plain": [
       "<Figure size 432x288 with 1 Axes>"
      ]
     },
     "metadata": {},
     "output_type": "display_data"
    }
   ],
   "source": [
    "ax = df_2_week[\"Revenue\"].plot()\n",
    "ax.set(ylabel=\"Revenue in $\", title = \"Revenue over first two weeks of the year\")\n"
   ]
  },
  {
   "cell_type": "markdown",
   "metadata": {},
   "source": [
    "We start with a simple line chart where we plot out our data then connect them with lines. We can see that the vertical access represents the Revenue values while the horizontal axis represents the Date. Another common chart is a pie chart, where each slice of the pie chart represents a category."
   ]
  },
  {
   "cell_type": "code",
   "execution_count": 13,
   "metadata": {},
   "outputs": [
    {
     "data": {
      "text/plain": [
       "array([<matplotlib.axes._subplots.AxesSubplot object at 0x000001BA9B310978>],\n",
       "      dtype=object)"
      ]
     },
     "execution_count": 13,
     "metadata": {},
     "output_type": "execute_result"
    },
    {
     "data": {
      "image/png": "[encoded data removed]",
      "text/plain": [
       "<Figure size 720x720 with 1 Axes>"
      ]
     },
     "metadata": {},
     "output_type": "display_data"
    }
   ],
   "source": [
    "df_2_week.loc[:,['Day', 'Revenue']].groupby('Day').mean().plot(kind = 'pie', subplots=True, figsize=(10, 10),autopct='%.2f')\n"
   ]
  },
  {
   "cell_type": "markdown",
   "metadata": {},
   "source": [
    "Bar chart can also be used to help customers understand where a class may stand when compared to each other. "
   ]
  },
  {
   "cell_type": "code",
   "execution_count": 15,
   "metadata": {},
   "outputs": [
    {
     "data": {
      "text/plain": [
       "[Text(0,0.5,'Revenue in $'), Text(0.5,1,'Bar Chart of Revenue Divied by Day')]"
      ]
     },
     "execution_count": 15,
     "metadata": {},
     "output_type": "execute_result"
    },
    {
     "data": {
      "image/png": "[encoded data removed]",
      "text/plain": [
       "<Figure size 720x720 with 1 Axes>"
      ]
     },
     "metadata": {},
     "output_type": "display_data"
    }
   ],
   "source": [
    "ax2 = df_2_week.loc[:,['Day', 'Revenue']].groupby('Day').mean().plot(kind = 'bar', figsize=(10, 10))\n",
    "ax2.set(title='Bar Chart of Revenue Divied by Day', ylabel= 'Revenue in $')"
   ]
  },
  {
   "cell_type": "markdown",
   "metadata": {},
   "source": [
    "We are also able to group our data when ploting, in the example below we group by days while also ploting different prices based on these grouping. "
   ]
  },
  {
   "cell_type": "code",
   "execution_count": 45,
   "metadata": {},
   "outputs": [
    {
     "data": {
      "text/plain": [
       "Text(0.5,1,'Bar Chart of Revenue by By Day and Price')"
      ]
     },
     "execution_count": 45,
     "metadata": {},
     "output_type": "execute_result"
    },
    {
     "data": {
      "image/png": "[encoded data removed]",
      "text/plain": [
       "<Figure size 720x720 with 1 Axes>"
      ]
     },
     "metadata": {},
     "output_type": "display_data"
    }
   ],
   "source": [
    "ax3 = df.loc[:,['Day', 'Revenue', 'Price']].groupby(['Day', 'Price']).mean().unstack().plot.bar( figsize=(10, 10))\n",
    "ax3.set_title(\"Bar Chart of Revenue by By Day and Price\")"
   ]
  },
  {
   "cell_type": "markdown",
   "metadata": {},
   "source": [
    "Lastly scatter plot are use to find a distribution of the data, outlier are more apparent."
   ]
  },
  {
   "cell_type": "code",
   "execution_count": 53,
   "metadata": {},
   "outputs": [
    {
     "data": {
      "text/plain": [
       "<matplotlib.axes._subplots.AxesSubplot at 0x1ba9e407630>"
      ]
     },
     "execution_count": 53,
     "metadata": {},
     "output_type": "execute_result"
    },
    {
     "data": {
      "image/png": "[encoded data removed]",
      "text/plain": [
       "<Figure size 432x288 with 1 Axes>"
      ]
     },
     "metadata": {},
     "output_type": "display_data"
    }
   ],
   "source": [
    "df_2_week.loc[:,['Temperature', 'Sales']].plot(kind = 'scatter', x='Temperature', y='Sales', c='DarkBlue')"
   ]
  },
  {
   "cell_type": "code",
   "execution_count": null,
   "metadata": {},
   "outputs": [],
   "source": []
  },
  {
   "cell_type": "code",
   "execution_count": null,
   "metadata": {},
   "outputs": [],
   "source": []
  }
 ],
 "metadata": {
  "kernelspec": {
   "display_name": "Python 3",
   "language": "python",
   "name": "python3"
  },
  "language_info": {
   "codemirror_mode": {
    "name": "ipython",
    "version": 3
   },
   "file_extension": ".py",
   "mimetype": "text/x-python",
   "name": "python",
   "nbconvert_exporter": "python",
   "pygments_lexer": "ipython3",
   "version": "3.6.5"
  }
 },
 "nbformat": 4,
 "nbformat_minor": 2
}
